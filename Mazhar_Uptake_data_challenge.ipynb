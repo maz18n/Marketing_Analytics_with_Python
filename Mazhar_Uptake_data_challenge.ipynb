{
 "cells": [
  {
   "cell_type": "code",
   "execution_count": 1,
   "metadata": {},
   "outputs": [],
   "source": [
    "import pandas as pd\n",
    "import matplotlib.pyplot as plt\n",
    "%matplotlib inline\n",
    "import seaborn as sbn\n",
    "import numpy as np\n",
    "import datetime\n",
    "import json\n",
    "from pandas.io.json import json_normalize\n",
    "from sklearn import metrics"
   ]
  },
  {
   "cell_type": "markdown",
   "metadata": {},
   "source": [
    "# Load Data"
   ]
  },
  {
   "cell_type": "code",
   "execution_count": 91,
   "metadata": {},
   "outputs": [
    {
     "name": "stderr",
     "output_type": "stream",
     "text": [
      "C:\\Users\\maz\\Anaconda3\\lib\\site-packages\\IPython\\core\\interactiveshell.py:2785: DtypeWarning: Columns (8) have mixed types. Specify dtype option on import or set low_memory=False.\n",
      "  interactivity=interactivity, compiler=compiler, result=result)\n"
     ]
    }
   ],
   "source": [
    "df=pd.read_csv(r'C:\\Users\\maz\\Desktop\\uptake_data\\train.csv')"
   ]
  },
  {
   "cell_type": "code",
   "execution_count": 72,
   "metadata": {},
   "outputs": [
    {
     "data": {
      "text/plain": [
       "(182190, 481)"
      ]
     },
     "execution_count": 72,
     "metadata": {},
     "output_type": "execute_result"
    }
   ],
   "source": [
    "df.shape"
   ]
  },
  {
   "cell_type": "markdown",
   "metadata": {},
   "source": [
    "481 Columns and 182190 rows in the training dataset"
   ]
  },
  {
   "cell_type": "markdown",
   "metadata": {},
   "source": [
    "# Amount Received"
   ]
  },
  {
   "cell_type": "code",
   "execution_count": 3,
   "metadata": {},
   "outputs": [
    {
     "name": "stdout",
     "output_type": "stream",
     "text": [
      "percentage of people donated 5.076568417586037\n"
     ]
    }
   ],
   "source": [
    "#missing values replaced with zero donation\n",
    "df.amount=df.amount.fillna(0)\n",
    "print('percentage of people donated',df.query('amount>0').shape[0]*100/df.shape[0])"
   ]
  },
  {
   "cell_type": "code",
   "execution_count": 250,
   "metadata": {},
   "outputs": [
    {
     "name": "stdout",
     "output_type": "stream",
     "text": [
      "missing value percentage 0.0\n"
     ]
    },
    {
     "data": {
      "image/png": "[encoded data removed]",
      "text/plain": [
       "<Figure size 432x288 with 1 Axes>"
      ]
     },
     "metadata": {},
     "output_type": "display_data"
    }
   ],
   "source": [
    "df.amount.hist()\n",
    "print('missing value percentage',df.amount.isnull().sum()*100/df.shape[0])\n"
   ]
  },
  {
   "cell_type": "markdown",
   "metadata": {},
   "source": [
    "# Marketing Cost Analysis "
   ]
  },
  {
   "cell_type": "code",
   "execution_count": 4,
   "metadata": {},
   "outputs": [
    {
     "data": {
      "image/png": "[encoded data removed]",
      "text/plain": [
       "<Figure size 432x288 with 1 Axes>"
      ]
     },
     "metadata": {},
     "output_type": "display_data"
    }
   ],
   "source": [
    "zipcost=pd.read_csv(r'C:\\Users\\maz\\Desktop\\uptake_data\\zipCodeMarketingCosts.csv')\n",
    "plt.hist(zipcost.marketingCost)\n",
    "plt.xlabel('Marketing Cost')\n",
    "plt.ylabel('Number of zip code regions')\n",
    "plt.grid(True)\n",
    "           "
   ]
  },
  {
   "cell_type": "code",
   "execution_count": 237,
   "metadata": {},
   "outputs": [
    {
     "name": "stdout",
     "output_type": "stream",
     "text": [
      "Average Marketing cost is  5.4739013076734215\n"
     ]
    }
   ],
   "source": [
    "print('Average Marketing cost is ',np.mean(zipcost.marketingCost))"
   ]
  },
  {
   "cell_type": "markdown",
   "metadata": {},
   "source": [
    "# Missing Values And Data Preprocessing"
   ]
  },
  {
   "cell_type": "code",
   "execution_count": 5,
   "metadata": {},
   "outputs": [
    {
     "name": "stdout",
     "output_type": "stream",
     "text": [
      "age Missing Data Percentage in 24.7538284208793\n",
      "numchld Missing Data Percentage in 87.02343707118942\n",
      "income_range Missing Data Percentage in 22.29375926230858\n",
      "wealth1 Missing Data Percentage in 46.85657829738185\n",
      "mbcraft Missing Data Percentage in 55.37460892474889\n",
      "mbgarden Missing Data Percentage in 55.37460892474889\n",
      "mbbooks Missing Data Percentage in 55.37460892474889\n",
      "mbcolect Missing Data Percentage in 55.435534332290466\n",
      "magfaml Missing Data Percentage in 55.37460892474889\n",
      "magfem Missing Data Percentage in 55.37460892474889\n",
      "magmale Missing Data Percentage in 55.37460892474889\n",
      "pubgardn Missing Data Percentage in 55.37460892474889\n",
      "pubculin Missing Data Percentage in 55.37460892474889\n",
      "pubhlth Missing Data Percentage in 55.37460892474889\n",
      "pubdoity Missing Data Percentage in 55.37460892474889\n",
      "pubnewfn Missing Data Percentage in 55.37460892474889\n",
      "pubphoto Missing Data Percentage in 55.37460892474889\n",
      "pubopp Missing Data Percentage in 55.37460892474889\n",
      "wealth2 Missing Data Percentage in 45.92732861298644\n",
      "msa Missing Data Percentage in 0.13721938635490422\n",
      "adi Missing Data Percentage in 0.13721938635490422\n",
      "dma Missing Data Percentage in 0.13721938635490422\n",
      "adate_3 Missing Data Percentage in 2.0319446731434216\n",
      "adate_4 Missing Data Percentage in 2.27839069103683\n",
      "adate_5 Missing Data Percentage in 35.20884790603216\n",
      "adate_6 Missing Data Percentage in 3.7356605741259123\n",
      "adate_7 Missing Data Percentage in 9.2837148032274\n",
      "adate_8 Missing Data Percentage in 3.6670508809484605\n",
      "adate_9 Missing Data Percentage in 11.766287941160327\n",
      "adate_10 Missing Data Percentage in 34.31911740490697\n",
      "adate_11 Missing Data Percentage in 10.91552774575992\n",
      "adate_12 Missing Data Percentage in 9.34134694549646\n",
      "adate_13 Missing Data Percentage in 42.13458477413689\n",
      "adate_14 Missing Data Percentage in 19.75629836983369\n",
      "adate_15 Missing Data Percentage in 68.63823480981394\n",
      "adate_16 Missing Data Percentage in 21.327185904824635\n",
      "adate_17 Missing Data Percentage in 28.959877051429824\n",
      "adate_18 Missing Data Percentage in 22.27674405840057\n",
      "adate_19 Missing Data Percentage in 25.665514023821284\n",
      "adate_20 Missing Data Percentage in 52.62692793237829\n",
      "adate_21 Missing Data Percentage in 36.86151819529063\n",
      "adate_22 Missing Data Percentage in 26.87249574619902\n",
      "adate_23 Missing Data Percentage in 58.97140347988364\n",
      "adate_24 Missing Data Percentage in 38.7353861353532\n",
      "rdate_3 Missing Data Percentage in 99.7425764311982\n",
      "rdate_4 Missing Data Percentage in 99.70525275810967\n",
      "rdate_5 Missing Data Percentage in 99.99066908172787\n",
      "rdate_6 Missing Data Percentage in 99.19479664086943\n",
      "rdate_7 Missing Data Percentage in 90.67621713595697\n",
      "rdate_8 Missing Data Percentage in 77.49382512761403\n",
      "rdate_9 Missing Data Percentage in 82.45732477084363\n",
      "rdate_10 Missing Data Percentage in 89.06471266260498\n",
      "rdate_11 Missing Data Percentage in 84.55403699434656\n",
      "rdate_12 Missing Data Percentage in 73.05505241780558\n",
      "rdate_13 Missing Data Percentage in 87.12168615181953\n",
      "rdate_14 Missing Data Percentage in 75.5650694330095\n",
      "rdate_15 Missing Data Percentage in 92.38981283275702\n",
      "rdate_16 Missing Data Percentage in 71.67407651352983\n",
      "rdate_17 Missing Data Percentage in 90.13776826390033\n",
      "rdate_18 Missing Data Percentage in 79.28755694604534\n",
      "rdate_19 Missing Data Percentage in 83.37834129205774\n",
      "rdate_20 Missing Data Percentage in 91.74213732916186\n",
      "rdate_21 Missing Data Percentage in 90.00493989790877\n",
      "rdate_22 Missing Data Percentage in 78.08661287666722\n",
      "rdate_23 Missing Data Percentage in 91.77616773697788\n",
      "rdate_24 Missing Data Percentage in 81.40018661836544\n",
      "ramnt_3 Missing Data Percentage in 99.7425764311982\n",
      "ramnt_4 Missing Data Percentage in 99.70525275810967\n",
      "ramnt_5 Missing Data Percentage in 99.99066908172787\n",
      "ramnt_6 Missing Data Percentage in 99.19479664086943\n",
      "ramnt_7 Missing Data Percentage in 90.67621713595697\n",
      "ramnt_8 Missing Data Percentage in 77.49382512761403\n",
      "ramnt_9 Missing Data Percentage in 82.45732477084363\n",
      "ramnt_10 Missing Data Percentage in 89.06471266260498\n",
      "ramnt_11 Missing Data Percentage in 84.55403699434656\n",
      "ramnt_12 Missing Data Percentage in 73.05505241780558\n",
      "ramnt_13 Missing Data Percentage in 87.12168615181953\n",
      "ramnt_14 Missing Data Percentage in 75.5650694330095\n",
      "ramnt_15 Missing Data Percentage in 92.38981283275702\n",
      "ramnt_16 Missing Data Percentage in 71.67407651352983\n",
      "ramnt_17 Missing Data Percentage in 90.13776826390033\n",
      "ramnt_18 Missing Data Percentage in 79.28755694604534\n",
      "ramnt_19 Missing Data Percentage in 83.37834129205774\n",
      "ramnt_20 Missing Data Percentage in 91.74213732916186\n",
      "ramnt_21 Missing Data Percentage in 90.00493989790877\n",
      "ramnt_22 Missing Data Percentage in 78.08661287666722\n",
      "ramnt_23 Missing Data Percentage in 91.77616773697788\n",
      "ramnt_24 Missing Data Percentage in 81.40018661836544\n",
      "nextdate Missing Data Percentage in 10.42757560788188\n",
      "timelag Missing Data Percentage in 10.42757560788188\n",
      "cluster2 Missing Data Percentage in 0.13721938635490422\n",
      "geocode2 Missing Data Percentage in 0.13721938635490422\n",
      "Total Number of Columns with missing data is  92\n"
     ]
    }
   ],
   "source": [
    "c=0\n",
    "for i in df.columns:\n",
    "    if df[i].isnull().sum()>0:\n",
    "        c+=1\n",
    "        print('%s Missing Data Percentage in'%i,df[i].isnull().sum()*100/df.shape[0])\n",
    "print('Total Number of Columns with missing data is ', c)"
   ]
  },
  {
   "cell_type": "markdown",
   "metadata": {},
   "source": [
    "Date Channels of the previous campaigns most of them are missing and not in valid fromat. Hence date columns are removed"
   ]
  },
  {
   "cell_type": "code",
   "execution_count": 6,
   "metadata": {},
   "outputs": [
    {
     "data": {
      "text/plain": [
       "(182190, 429)"
      ]
     },
     "execution_count": 6,
     "metadata": {},
     "output_type": "execute_result"
    }
   ],
   "source": [
    "date_columns=[]\n",
    "for i in df.columns:\n",
    "    if 'date' in i:\n",
    "        date_columns.append(i)\n",
    "df=df.drop(date_columns,axis=1)\n",
    "df.shape"
   ]
  },
  {
   "cell_type": "markdown",
   "metadata": {},
   "source": [
    "429 Variables Remaining after troping date columns"
   ]
  },
  {
   "cell_type": "markdown",
   "metadata": {},
   "source": [
    "# RAmount Columns\n",
    "missing values imputed with zeros"
   ]
  },
  {
   "cell_type": "code",
   "execution_count": 7,
   "metadata": {},
   "outputs": [],
   "source": [
    "for i in df.columns:\n",
    "    if 'ramnt' in i:\n",
    "        df[i]=df[i].fillna(0)"
   ]
  },
  {
   "cell_type": "code",
   "execution_count": 8,
   "metadata": {},
   "outputs": [
    {
     "data": {
      "text/plain": [
       "age             24.753828\n",
       "numchld         87.023437\n",
       "income_range    22.293759\n",
       "wealth1         46.856578\n",
       "mbcraft         55.374609\n",
       "mbgarden        55.374609\n",
       "mbbooks         55.374609\n",
       "mbcolect        55.435534\n",
       "magfaml         55.374609\n",
       "magfem          55.374609\n",
       "magmale         55.374609\n",
       "pubgardn        55.374609\n",
       "pubculin        55.374609\n",
       "pubhlth         55.374609\n",
       "pubdoity        55.374609\n",
       "pubnewfn        55.374609\n",
       "pubphoto        55.374609\n",
       "pubopp          55.374609\n",
       "wealth2         45.927329\n",
       "msa              0.137219\n",
       "adi              0.137219\n",
       "dma              0.137219\n",
       "timelag         10.427576\n",
       "cluster2         0.137219\n",
       "geocode2         0.137219\n",
       "dtype: float64"
      ]
     },
     "execution_count": 8,
     "metadata": {},
     "output_type": "execute_result"
    }
   ],
   "source": [
    "missing_vals=df.isnull().sum()*100/df.shape[0]\n",
    "missing_vals[missing_vals>0]\n",
    "             "
   ]
  },
  {
   "cell_type": "markdown",
   "metadata": {},
   "source": [
    "# Age column missing values imputed with median age"
   ]
  },
  {
   "cell_type": "code",
   "execution_count": 9,
   "metadata": {},
   "outputs": [],
   "source": [
    "df['age']=df.age.fillna(np.nanmedian(df.age))"
   ]
  },
  {
   "cell_type": "code",
   "execution_count": 10,
   "metadata": {},
   "outputs": [
    {
     "data": {
      "text/plain": [
       "<matplotlib.axes._subplots.AxesSubplot at 0x223d4d71470>"
      ]
     },
     "execution_count": 10,
     "metadata": {},
     "output_type": "execute_result"
    },
    {
     "data": {
      "image/png": "[encoded data removed]",
      "text/plain": [
       "<Figure size 432x288 with 1 Axes>"
      ]
     },
     "metadata": {},
     "output_type": "display_data"
    }
   ],
   "source": [
    "df.age.hist()"
   ]
  },
  {
   "cell_type": "markdown",
   "metadata": {},
   "source": [
    "# number of children  column missing values imputed with zero"
   ]
  },
  {
   "cell_type": "code",
   "execution_count": 11,
   "metadata": {},
   "outputs": [
    {
     "data": {
      "text/plain": [
       "<matplotlib.axes._subplots.AxesSubplot at 0x223d9096438>"
      ]
     },
     "execution_count": 11,
     "metadata": {},
     "output_type": "execute_result"
    },
    {
     "data": {
      "image/png": "[encoded data removed]",
      "text/plain": [
       "<Figure size 432x288 with 1 Axes>"
      ]
     },
     "metadata": {},
     "output_type": "display_data"
    }
   ],
   "source": [
    "df['numchld']=df.numchld.fillna(0)\n",
    "df.numchld.hist()"
   ]
  },
  {
   "cell_type": "markdown",
   "metadata": {},
   "source": [
    "# Income column missing values imputed with median income"
   ]
  },
  {
   "cell_type": "code",
   "execution_count": 12,
   "metadata": {},
   "outputs": [
    {
     "data": {
      "text/plain": [
       "<matplotlib.axes._subplots.AxesSubplot at 0x223d8fcd6a0>"
      ]
     },
     "execution_count": 12,
     "metadata": {},
     "output_type": "execute_result"
    },
    {
     "data": {
      "image/png": "[encoded data removed]",
      "text/plain": [
       "<Figure size 432x288 with 1 Axes>"
      ]
     },
     "metadata": {},
     "output_type": "display_data"
    }
   ],
   "source": [
    "df.income_range=df.income_range.fillna(np.nanmedian(df.income_range))\n",
    "df.income_range.hist()"
   ]
  },
  {
   "cell_type": "markdown",
   "metadata": {},
   "source": [
    "# Wealth Rating"
   ]
  },
  {
   "cell_type": "code",
   "execution_count": 13,
   "metadata": {},
   "outputs": [
    {
     "data": {
      "image/png": "[encoded data removed]",
      "text/plain": [
       "<Figure size 432x288 with 1 Axes>"
      ]
     },
     "metadata": {},
     "output_type": "display_data"
    }
   ],
   "source": [
    "df.wealth1.hist()\n",
    "df.wealth1=df.wealth1.fillna(np.nanmean(df.wealth1))\n"
   ]
  },
  {
   "cell_type": "code",
   "execution_count": 14,
   "metadata": {},
   "outputs": [
    {
     "data": {
      "image/png": "[encoded data removed]",
      "text/plain": [
       "<Figure size 432x288 with 1 Axes>"
      ]
     },
     "metadata": {},
     "output_type": "display_data"
    }
   ],
   "source": [
    "df.wealth2.hist()\n",
    "df.wealth2=df.wealth1.fillna(np.mean(df.wealth2))\n",
    "df.wealth1=df.wealth1.fillna(np.nanmean(df.wealth1))"
   ]
  },
  {
   "cell_type": "markdown",
   "metadata": {},
   "source": [
    "# Buy Craft Hobby\n",
    "missing values inserted with zero"
   ]
  },
  {
   "cell_type": "code",
   "execution_count": 15,
   "metadata": {},
   "outputs": [
    {
     "data": {
      "image/png": "[encoded data removed]",
      "text/plain": [
       "<Figure size 432x288 with 1 Axes>"
      ]
     },
     "metadata": {},
     "output_type": "display_data"
    }
   ],
   "source": [
    "df.mbcraft.hist()\n",
    "df.mbcraft=df.mbcraft.fillna(0)"
   ]
  },
  {
   "cell_type": "markdown",
   "metadata": {},
   "source": [
    "# Other  Similar hobbies are imputed with zero for NA values                        \n"
   ]
  },
  {
   "cell_type": "code",
   "execution_count": 16,
   "metadata": {},
   "outputs": [
    {
     "data": {
      "text/plain": [
       "Index(['age', 'numchld', 'income_range', 'wealth1', 'mbcraft', 'mbgarden',\n",
       "       'mbbooks', 'mbcolect', 'magfaml', 'magfem', 'magmale', 'pubgardn',\n",
       "       'pubculin', 'pubhlth', 'pubdoity', 'pubnewfn', 'pubphoto', 'pubopp',\n",
       "       'wealth2', 'msa', 'adi', 'dma', 'timelag', 'cluster2', 'geocode2'],\n",
       "      dtype='object')"
      ]
     },
     "execution_count": 16,
     "metadata": {},
     "output_type": "execute_result"
    }
   ],
   "source": [
    "missing_vals[missing_vals>0].index"
   ]
  },
  {
   "cell_type": "code",
   "execution_count": 17,
   "metadata": {},
   "outputs": [],
   "source": [
    "for i in ['mbgarden',  'mbbooks', 'mbcolect', 'magfaml', 'magfem', 'magmale', 'pubgardn',\n",
    "       'pubculin', 'pubhlth', 'pubdoity', 'pubnewfn', 'pubphoto', 'pubopp']:\n",
    "    df[i]=df[i].fillna(0)"
   ]
  },
  {
   "cell_type": "markdown",
   "metadata": {},
   "source": [
    "# Amount Columns Analysis "
   ]
  },
  {
   "cell_type": "markdown",
   "metadata": {},
   "source": [
    "94% percentage of data missing hence column dropped"
   ]
  },
  {
   "cell_type": "code",
   "execution_count": 18,
   "metadata": {},
   "outputs": [],
   "source": [
    "df=df.drop(['amount'],axis=1)"
   ]
  },
  {
   "cell_type": "markdown",
   "metadata": {},
   "source": [
    "# Time Lag :Number of months between first and second gift\n"
   ]
  },
  {
   "cell_type": "code",
   "execution_count": 19,
   "metadata": {},
   "outputs": [
    {
     "name": "stdout",
     "output_type": "stream",
     "text": [
      "missing value percentage 10.42757560788188\n"
     ]
    },
    {
     "data": {
      "image/png": "[encoded data removed]",
      "text/plain": [
       "<Figure size 432x288 with 1 Axes>"
      ]
     },
     "metadata": {},
     "output_type": "display_data"
    }
   ],
   "source": [
    "df.timelag.hist()\n",
    "print('missing value percentage',df.timelag.isnull().sum()*100/df.shape[0])\n"
   ]
  },
  {
   "cell_type": "markdown",
   "metadata": {},
   "source": [
    "Outliers: values abouve  filtterd out anbd average time lag is used to replace any missing values also\n"
   ]
  },
  {
   "cell_type": "code",
   "execution_count": 20,
   "metadata": {},
   "outputs": [
    {
     "data": {
      "image/png": "[encoded data removed]",
      "text/plain": [
       "<Figure size 432x288 with 1 Axes>"
      ]
     },
     "metadata": {},
     "output_type": "display_data"
    }
   ],
   "source": [
    "df=df.query('timelag<100')\n",
    "df.timelag.hist()\n",
    "df.timelag=df.timelag.fillna(np.mean(df.timelag))"
   ]
  },
  {
   "cell_type": "code",
   "execution_count": 21,
   "metadata": {},
   "outputs": [],
   "source": [
    "df=df[df.msa.notnull()]"
   ]
  },
  {
   "cell_type": "markdown",
   "metadata": {},
   "source": [
    "# Current Response Rate and Baseline rate 5.29"
   ]
  },
  {
   "cell_type": "code",
   "execution_count": 22,
   "metadata": {},
   "outputs": [
    {
     "data": {
      "text/plain": [
       "5.291547515310693"
      ]
     },
     "execution_count": 22,
     "metadata": {},
     "output_type": "execute_result"
    }
   ],
   "source": [
    "df.query('responded ==1').shape[0]*100/df.shape[0]"
   ]
  },
  {
   "cell_type": "code",
   "execution_count": 164,
   "metadata": {},
   "outputs": [
    {
     "data": {
      "text/plain": [
       "(162958, 428)"
      ]
     },
     "execution_count": 164,
     "metadata": {},
     "output_type": "execute_result"
    }
   ],
   "source": [
    "df.shape"
   ]
  },
  {
   "cell_type": "code",
   "execution_count": 163,
   "metadata": {},
   "outputs": [
    {
     "data": {
      "text/html": [
       "<div>\n",
       "<style scoped>\n",
       "    .dataframe tbody tr th:only-of-type {\n",
       "        vertical-align: middle;\n",
       "    }\n",
       "\n",
       "    .dataframe tbody tr th {\n",
       "        vertical-align: top;\n",
       "    }\n",
       "\n",
       "    .dataframe thead th {\n",
       "        text-align: right;\n",
       "    }\n",
       "</style>\n",
       "<table border=\"1\" class=\"dataframe\">\n",
       "  <thead>\n",
       "    <tr style=\"text-align: right;\">\n",
       "      <th></th>\n",
       "      <th>title</th>\n",
       "      <th>dob</th>\n",
       "      <th>age</th>\n",
       "      <th>numchld</th>\n",
       "      <th>income_range</th>\n",
       "      <th>wealth1</th>\n",
       "      <th>hit</th>\n",
       "      <th>mbcraft</th>\n",
       "      <th>mbgarden</th>\n",
       "      <th>mbbooks</th>\n",
       "      <th>...</th>\n",
       "      <th>minramnt</th>\n",
       "      <th>maxramnt</th>\n",
       "      <th>lastgift</th>\n",
       "      <th>timelag</th>\n",
       "      <th>avggift</th>\n",
       "      <th>id</th>\n",
       "      <th>responded</th>\n",
       "      <th>hphone_d</th>\n",
       "      <th>rfa_2f</th>\n",
       "      <th>cluster2</th>\n",
       "    </tr>\n",
       "  </thead>\n",
       "  <tbody>\n",
       "    <tr>\n",
       "      <th>count</th>\n",
       "      <td>162958.000000</td>\n",
       "      <td>162958.000000</td>\n",
       "      <td>162958.000000</td>\n",
       "      <td>162958.000000</td>\n",
       "      <td>162958.000000</td>\n",
       "      <td>162958.000000</td>\n",
       "      <td>162958.000000</td>\n",
       "      <td>162958.000000</td>\n",
       "      <td>162958.000000</td>\n",
       "      <td>162958.000000</td>\n",
       "      <td>...</td>\n",
       "      <td>162958.000000</td>\n",
       "      <td>162958.000000</td>\n",
       "      <td>162958.000000</td>\n",
       "      <td>162958.000000</td>\n",
       "      <td>162958.000000</td>\n",
       "      <td>162958.000000</td>\n",
       "      <td>162958.000000</td>\n",
       "      <td>162958.000000</td>\n",
       "      <td>162958.000000</td>\n",
       "      <td>162958.000000</td>\n",
       "    </tr>\n",
       "    <tr>\n",
       "      <th>mean</th>\n",
       "      <td>59.204586</td>\n",
       "      <td>2719.077314</td>\n",
       "      <td>62.402680</td>\n",
       "      <td>0.196768</td>\n",
       "      <td>3.891764</td>\n",
       "      <td>5.333681</td>\n",
       "      <td>3.423299</td>\n",
       "      <td>0.070024</td>\n",
       "      <td>0.027265</td>\n",
       "      <td>0.509217</td>\n",
       "      <td>...</td>\n",
       "      <td>6.367474</td>\n",
       "      <td>19.835185</td>\n",
       "      <td>16.832536</td>\n",
       "      <td>8.065072</td>\n",
       "      <td>12.411685</td>\n",
       "      <td>91141.798991</td>\n",
       "      <td>0.052915</td>\n",
       "      <td>0.507493</td>\n",
       "      <td>2.015857</td>\n",
       "      <td>31.709115</td>\n",
       "    </tr>\n",
       "    <tr>\n",
       "      <th>std</th>\n",
       "      <td>997.244245</td>\n",
       "      <td>2097.440852</td>\n",
       "      <td>14.506471</td>\n",
       "      <td>0.589783</td>\n",
       "      <td>1.636951</td>\n",
       "      <td>2.006269</td>\n",
       "      <td>9.486921</td>\n",
       "      <td>0.328097</td>\n",
       "      <td>0.180987</td>\n",
       "      <td>1.259155</td>\n",
       "      <td>...</td>\n",
       "      <td>5.664781</td>\n",
       "      <td>26.175224</td>\n",
       "      <td>13.513141</td>\n",
       "      <td>6.249666</td>\n",
       "      <td>9.504129</td>\n",
       "      <td>52605.479856</td>\n",
       "      <td>0.223865</td>\n",
       "      <td>0.499945</td>\n",
       "      <td>1.085232</td>\n",
       "      <td>18.763896</td>\n",
       "    </tr>\n",
       "    <tr>\n",
       "      <th>min</th>\n",
       "      <td>0.000000</td>\n",
       "      <td>0.000000</td>\n",
       "      <td>1.000000</td>\n",
       "      <td>0.000000</td>\n",
       "      <td>1.000000</td>\n",
       "      <td>0.000000</td>\n",
       "      <td>0.000000</td>\n",
       "      <td>0.000000</td>\n",
       "      <td>0.000000</td>\n",
       "      <td>0.000000</td>\n",
       "      <td>...</td>\n",
       "      <td>0.000000</td>\n",
       "      <td>5.000000</td>\n",
       "      <td>0.000000</td>\n",
       "      <td>0.000000</td>\n",
       "      <td>1.285714</td>\n",
       "      <td>0.000000</td>\n",
       "      <td>0.000000</td>\n",
       "      <td>0.000000</td>\n",
       "      <td>1.000000</td>\n",
       "      <td>1.000000</td>\n",
       "    </tr>\n",
       "    <tr>\n",
       "      <th>25%</th>\n",
       "      <td>0.000000</td>\n",
       "      <td>603.000000</td>\n",
       "      <td>53.000000</td>\n",
       "      <td>0.000000</td>\n",
       "      <td>3.000000</td>\n",
       "      <td>5.000000</td>\n",
       "      <td>0.000000</td>\n",
       "      <td>0.000000</td>\n",
       "      <td>0.000000</td>\n",
       "      <td>0.000000</td>\n",
       "      <td>...</td>\n",
       "      <td>3.000000</td>\n",
       "      <td>12.000000</td>\n",
       "      <td>10.000000</td>\n",
       "      <td>4.000000</td>\n",
       "      <td>8.000000</td>\n",
       "      <td>45559.250000</td>\n",
       "      <td>0.000000</td>\n",
       "      <td>0.000000</td>\n",
       "      <td>1.000000</td>\n",
       "      <td>15.000000</td>\n",
       "    </tr>\n",
       "    <tr>\n",
       "      <th>50%</th>\n",
       "      <td>1.000000</td>\n",
       "      <td>2605.000000</td>\n",
       "      <td>63.000000</td>\n",
       "      <td>0.000000</td>\n",
       "      <td>4.000000</td>\n",
       "      <td>5.349063</td>\n",
       "      <td>0.000000</td>\n",
       "      <td>0.000000</td>\n",
       "      <td>0.000000</td>\n",
       "      <td>0.000000</td>\n",
       "      <td>...</td>\n",
       "      <td>5.000000</td>\n",
       "      <td>16.000000</td>\n",
       "      <td>15.000000</td>\n",
       "      <td>6.000000</td>\n",
       "      <td>10.818182</td>\n",
       "      <td>91150.500000</td>\n",
       "      <td>0.000000</td>\n",
       "      <td>1.000000</td>\n",
       "      <td>2.000000</td>\n",
       "      <td>32.000000</td>\n",
       "    </tr>\n",
       "    <tr>\n",
       "      <th>75%</th>\n",
       "      <td>2.000000</td>\n",
       "      <td>4501.000000</td>\n",
       "      <td>72.000000</td>\n",
       "      <td>0.000000</td>\n",
       "      <td>5.000000</td>\n",
       "      <td>6.000000</td>\n",
       "      <td>3.000000</td>\n",
       "      <td>0.000000</td>\n",
       "      <td>0.000000</td>\n",
       "      <td>0.000000</td>\n",
       "      <td>...</td>\n",
       "      <td>10.000000</td>\n",
       "      <td>22.000000</td>\n",
       "      <td>20.000000</td>\n",
       "      <td>11.000000</td>\n",
       "      <td>14.722222</td>\n",
       "      <td>136727.750000</td>\n",
       "      <td>0.000000</td>\n",
       "      <td>1.000000</td>\n",
       "      <td>3.000000</td>\n",
       "      <td>49.000000</td>\n",
       "    </tr>\n",
       "    <tr>\n",
       "      <th>max</th>\n",
       "      <td>72002.000000</td>\n",
       "      <td>9710.000000</td>\n",
       "      <td>98.000000</td>\n",
       "      <td>7.000000</td>\n",
       "      <td>7.000000</td>\n",
       "      <td>9.000000</td>\n",
       "      <td>241.000000</td>\n",
       "      <td>6.000000</td>\n",
       "      <td>4.000000</td>\n",
       "      <td>9.000000</td>\n",
       "      <td>...</td>\n",
       "      <td>450.000000</td>\n",
       "      <td>5000.000000</td>\n",
       "      <td>1000.000000</td>\n",
       "      <td>90.000000</td>\n",
       "      <td>948.500000</td>\n",
       "      <td>182189.000000</td>\n",
       "      <td>1.000000</td>\n",
       "      <td>1.000000</td>\n",
       "      <td>4.000000</td>\n",
       "      <td>62.000000</td>\n",
       "    </tr>\n",
       "  </tbody>\n",
       "</table>\n",
       "<p>8 rows × 354 columns</p>\n",
       "</div>"
      ],
      "text/plain": [
       "               title            dob            age        numchld  \\\n",
       "count  162958.000000  162958.000000  162958.000000  162958.000000   \n",
       "mean       59.204586    2719.077314      62.402680       0.196768   \n",
       "std       997.244245    2097.440852      14.506471       0.589783   \n",
       "min         0.000000       0.000000       1.000000       0.000000   \n",
       "25%         0.000000     603.000000      53.000000       0.000000   \n",
       "50%         1.000000    2605.000000      63.000000       0.000000   \n",
       "75%         2.000000    4501.000000      72.000000       0.000000   \n",
       "max     72002.000000    9710.000000      98.000000       7.000000   \n",
       "\n",
       "        income_range        wealth1            hit        mbcraft  \\\n",
       "count  162958.000000  162958.000000  162958.000000  162958.000000   \n",
       "mean        3.891764       5.333681       3.423299       0.070024   \n",
       "std         1.636951       2.006269       9.486921       0.328097   \n",
       "min         1.000000       0.000000       0.000000       0.000000   \n",
       "25%         3.000000       5.000000       0.000000       0.000000   \n",
       "50%         4.000000       5.349063       0.000000       0.000000   \n",
       "75%         5.000000       6.000000       3.000000       0.000000   \n",
       "max         7.000000       9.000000     241.000000       6.000000   \n",
       "\n",
       "            mbgarden        mbbooks      ...             minramnt  \\\n",
       "count  162958.000000  162958.000000      ...        162958.000000   \n",
       "mean        0.027265       0.509217      ...             6.367474   \n",
       "std         0.180987       1.259155      ...             5.664781   \n",
       "min         0.000000       0.000000      ...             0.000000   \n",
       "25%         0.000000       0.000000      ...             3.000000   \n",
       "50%         0.000000       0.000000      ...             5.000000   \n",
       "75%         0.000000       0.000000      ...            10.000000   \n",
       "max         4.000000       9.000000      ...           450.000000   \n",
       "\n",
       "            maxramnt       lastgift        timelag        avggift  \\\n",
       "count  162958.000000  162958.000000  162958.000000  162958.000000   \n",
       "mean       19.835185      16.832536       8.065072      12.411685   \n",
       "std        26.175224      13.513141       6.249666       9.504129   \n",
       "min         5.000000       0.000000       0.000000       1.285714   \n",
       "25%        12.000000      10.000000       4.000000       8.000000   \n",
       "50%        16.000000      15.000000       6.000000      10.818182   \n",
       "75%        22.000000      20.000000      11.000000      14.722222   \n",
       "max      5000.000000    1000.000000      90.000000     948.500000   \n",
       "\n",
       "                  id      responded       hphone_d         rfa_2f  \\\n",
       "count  162958.000000  162958.000000  162958.000000  162958.000000   \n",
       "mean    91141.798991       0.052915       0.507493       2.015857   \n",
       "std     52605.479856       0.223865       0.499945       1.085232   \n",
       "min         0.000000       0.000000       0.000000       1.000000   \n",
       "25%     45559.250000       0.000000       0.000000       1.000000   \n",
       "50%     91150.500000       0.000000       1.000000       2.000000   \n",
       "75%    136727.750000       0.000000       1.000000       3.000000   \n",
       "max    182189.000000       1.000000       1.000000       4.000000   \n",
       "\n",
       "            cluster2  \n",
       "count  162958.000000  \n",
       "mean       31.709115  \n",
       "std        18.763896  \n",
       "min         1.000000  \n",
       "25%        15.000000  \n",
       "50%        32.000000  \n",
       "75%        49.000000  \n",
       "max        62.000000  \n",
       "\n",
       "[8 rows x 354 columns]"
      ]
     },
     "execution_count": 163,
     "metadata": {},
     "output_type": "execute_result"
    }
   ],
   "source": [
    "df.describe()"
   ]
  },
  {
   "cell_type": "markdown",
   "metadata": {},
   "source": [
    "354 columns are numeric type reamng 74 variables are label encoded using SKlearn label encoder"
   ]
  },
  {
   "cell_type": "markdown",
   "metadata": {},
   "source": [
    "# Label Encoding Categorical Variables"
   ]
  },
  {
   "cell_type": "code",
   "execution_count": 23,
   "metadata": {},
   "outputs": [],
   "source": [
    "from sklearn.preprocessing import LabelEncoder\n",
    "enc = LabelEncoder()"
   ]
  },
  {
   "cell_type": "markdown",
   "metadata": {},
   "source": [
    "# Finding Categorical Variable"
   ]
  },
  {
   "cell_type": "code",
   "execution_count": 24,
   "metadata": {},
   "outputs": [],
   "source": [
    "df.noexch=df.noexch.replace('X',0)\n",
    "df.noexch=df.noexch.replace(' ',0)\n",
    "df.noexch=df.noexch.astype('int')\n"
   ]
  },
  {
   "cell_type": "code",
   "execution_count": 26,
   "metadata": {},
   "outputs": [],
   "source": [
    "for i in df.columns:\n",
    "    if df[i].dtypes== 'O':\n",
    "        print('variable',i,'encoded')\n",
    "        df[i]=enc.fit_transform(df[i])"
   ]
  },
  {
   "cell_type": "markdown",
   "metadata": {},
   "source": [
    "# Train Test Split"
   ]
  },
  {
   "cell_type": "code",
   "execution_count": 27,
   "metadata": {},
   "outputs": [],
   "source": [
    "# Using Skicit-learn to split data into training and testing sets\n",
    "from sklearn.model_selection import train_test_split\n",
    "X=df.drop(['responded'],axis=1)\n",
    "y=df.responded\n",
    "# Split the data into training and testing sets\n",
    "X_train, X_test, y_train, y_test = train_test_split(X, y, test_size = 0.25, random_state = 42)"
   ]
  },
  {
   "cell_type": "markdown",
   "metadata": {},
   "source": [
    "# Random Forest Classifier \n",
    "Feature importance also shown below"
   ]
  },
  {
   "cell_type": "code",
   "execution_count": 29,
   "metadata": {},
   "outputs": [],
   "source": [
    "# Import the model we are using\n",
    "from sklearn.ensemble import RandomForestClassifier\n",
    "# Instantiate model with 100 decision trees\n",
    "rf = RandomForestClassifier(n_estimators = 100, random_state = 42)\n",
    "# Train the model on training data\n",
    "rf.fit(X_train,y_train);"
   ]
  },
  {
   "cell_type": "code",
   "execution_count": 184,
   "metadata": {},
   "outputs": [
    {
     "name": "stdout",
     "output_type": "stream",
     "text": [
      "source 0.005778377036977156\n",
      "title 0.0024129651866601934\n",
      "state 0.0029964381862388977\n",
      "zip 0.005780966503998659\n",
      "mailcode 0.00031717165382417914\n",
      "has_chapter 0.0003132026023231949\n",
      "dob 0.004329769517765497\n",
      "noexch 0.00021616207267380404\n",
      "recinhse 0.0004725536042109928\n",
      "recp3 0.0005533603832993481\n",
      "recpgvg 0.00014273358775667295\n",
      "recsweep 0.00022790997586946915\n",
      "mdmaud 0.00011404368031341468\n",
      "domain 0.002551265619425439\n",
      "cluster 0.003446021706054217\n",
      "age 0.004898782304677902\n",
      "ageflag 0.001321413661496354\n",
      "homeownr 0.0011423480558743608\n",
      "child03 0.0003937056621684779\n",
      "child07 0.0004486723724233088\n",
      "child12 0.00039757744386247957\n",
      "child18 0.0004767378237815562\n",
      "numchld 0.0010503728205311382\n",
      "income_range 0.0022619283161603807\n",
      "gender 0.0015715764590344778\n",
      "wealth1 0.002003573752762078\n",
      "hit 0.002629812718924174\n",
      "mbcraft 0.0010530311861907398\n",
      "mbgarden 0.0004995079214670518\n",
      "mbbooks 0.0016119348731991475\n",
      "mbcolect 0.00046746061017585277\n",
      "magfaml 0.0011520419894351965\n",
      "magfem 0.0007998075977183111\n",
      "magmale 0.0008139762223021451\n",
      "pubgardn 0.0009130768832792249\n",
      "pubculin 0.0008870636325632223\n",
      "pubhlth 0.0017321242728641148\n",
      "pubdoity 0.0009086356531039706\n",
      "pubnewfn 0.0009593859912184526\n",
      "pubphoto 0.00029142716243950453\n",
      "pubopp 0.0010272625783531455\n",
      "datasrce 0.0014429178693944353\n",
      "malemili 0.0018078539141757743\n",
      "malevet 0.0038642971332437594\n",
      "vietvets 0.0038781155296151804\n",
      "wwiivets 0.003543199827455151\n",
      "localgov 0.003049830427156139\n",
      "stategov 0.002977122000633373\n",
      "fedgov 0.0026120226300845556\n",
      "solp3 0.0001342431590864516\n",
      "solih 0.0005117274685819695\n",
      "major 4.116272066139159e-05\n",
      "wealth2 0.0020911515894911654\n",
      "geocode 0.0009412568369857818\n",
      "collect1 0.0005350462546430723\n",
      "veterans 0.0005786532104486667\n",
      "bible 0.0005414659990966519\n",
      "catlg 0.0006008168720325615\n",
      "homee 0.0004278410534892195\n",
      "pets 0.0006706178134603392\n",
      "cdplay 0.0005894711206255319\n",
      "stereo 0.0004854807519387523\n",
      "pcowners 0.0005868496782540631\n",
      "photo 0.0005429626727606167\n",
      "crafts 0.0005325579683046526\n",
      "fisher 0.0005201382393496026\n",
      "gardenin 0.0006167848548497798\n",
      "boats 0.00041727736503705063\n",
      "walker 0.0006624625265014495\n",
      "kidstuff 0.0005144733103315715\n",
      "cards 0.0003991320320092928\n",
      "plates 0.0003481290338471591\n",
      "lifesrc 0.001440419113188478\n",
      "pepstrfl 0.0009437415253023521\n",
      "pop901 0.004985164115094322\n",
      "pop902 0.0050982701637435025\n",
      "pop903 0.0051689938140014125\n",
      "pop90c1 0.0007312241913707279\n",
      "pop90c2 0.0011478913943892143\n",
      "pop90c3 0.0011604393410037431\n",
      "pop90c4 0.0023339335817290563\n",
      "pop90c5 0.0021624844505030265\n",
      "eth1 0.0024769992401755783\n",
      "eth2 0.002025256578208037\n",
      "eth3 0.0015829324489403385\n",
      "eth4 0.0017598816992264186\n",
      "eth5 0.002696145831370248\n",
      "eth6 0.0008821816916463174\n",
      "eth7 0.0009588629096931996\n",
      "eth8 0.0009818716596776025\n",
      "eth9 0.0011006114434539721\n",
      "eth10 0.0011164147956347953\n",
      "eth11 0.0007942037055326057\n",
      "eth12 0.0004725038292974148\n",
      "eth13 0.0023826796943564902\n",
      "eth14 0.0013800012302331113\n",
      "eth15 0.0010745721469334194\n",
      "eth16 0.001788602085682627\n",
      "age901 0.0022599358090153337\n",
      "age902 0.0023467461988404253\n",
      "age903 0.0022466893567962974\n",
      "age904 0.0020261202357256857\n",
      "age905 0.0021038003088079417\n",
      "age906 0.0020191192835780215\n",
      "age907 0.0022946249742512425\n",
      "chil1 0.003119818082964296\n",
      "chil2 0.0028208809575813597\n",
      "chil3 0.0032217534111254513\n",
      "agec1 0.002305828347524268\n",
      "agec2 0.002694904837175131\n",
      "agec3 0.0027349537383123362\n",
      "agec4 0.0026440777493522017\n",
      "agec5 0.00257101906533832\n",
      "agec6 0.002364884862625829\n",
      "agec7 0.0021952301312015334\n",
      "chilc1 0.0026699607624815947\n",
      "chilc2 0.0025774979319020002\n",
      "chilc3 0.0029850484646475085\n",
      "chilc4 0.002863762552110678\n",
      "chilc5 0.0028623551240149737\n",
      "hhage1 0.0027336607461549128\n",
      "hhage2 0.0023430591639800173\n",
      "hhage3 0.0025446078507557\n",
      "hhn1 0.002709515535151686\n",
      "hhn2 0.002904006531560155\n",
      "hhn3 0.0026117732014033007\n",
      "hhn4 0.0026148243536114023\n",
      "hhn5 0.0023457309575823644\n",
      "hhn6 0.001733872584372783\n",
      "marr1 0.0026114261663694677\n",
      "marr2 0.0024803988557452754\n",
      "marr3 0.002213214452558941\n",
      "marr4 0.00263245051756557\n",
      "hhp1 0.003229340149962561\n",
      "hhp2 0.0030364874638948852\n",
      "dw1 0.0025063206731588844\n",
      "dw2 0.0027635384487275827\n",
      "dw3 0.0023134270652799137\n",
      "dw4 0.002243439190425775\n",
      "dw5 0.0022216497566273875\n",
      "dw6 0.0022162852881007283\n",
      "dw7 0.0015974792303117835\n",
      "dw8 0.0014722204871507702\n",
      "dw9 0.0012871358923578831\n",
      "hv1 0.004127998372742902\n",
      "hv2 0.004112306785765991\n",
      "hv3 0.0016128044525636916\n",
      "hv4 0.001620213507960749\n",
      "hu1 0.002792974638641288\n",
      "hu2 0.002863790496922342\n",
      "hu3 0.0028131004851980478\n",
      "hu4 0.0031632591002681747\n",
      "hu5 0.0030722330513413393\n",
      "hhd1 0.002604515779280113\n",
      "hhd2 0.0024474530871216927\n",
      "hhd3 0.0025692916806277625\n",
      "hhd4 0.0027353586764294955\n",
      "hhd5 0.002203212255459184\n",
      "hhd6 0.002332266421538774\n",
      "hhd7 0.0020840865843229544\n",
      "hhd8 0.0013983730523839499\n",
      "hhd9 0.0022068217911228997\n",
      "hhd10 0.0026983195010523786\n",
      "hhd11 0.0025673200787630734\n",
      "hhd12 0.0024477516233581\n",
      "ethc1 0.0030343945003773088\n",
      "ethc2 0.0032326150661697102\n",
      "ethc3 0.0023099300169864834\n",
      "ethc4 0.0016446469439673503\n",
      "ethc5 0.001849140316192038\n",
      "ethc6 0.0012136243334263388\n",
      "hvp1 0.0020813811135955147\n",
      "hvp2 0.002467995323996697\n",
      "hvp3 0.0027976292335196574\n",
      "hvp4 0.0027535782260646076\n",
      "hvp5 0.002388761275138823\n",
      "hvp6 0.001750630159724429\n",
      "hur1 0.001983063659399153\n",
      "hur2 0.0032750455263398873\n",
      "rhp1 0.00275670013854762\n",
      "rhp2 0.002897476617563932\n",
      "rhp3 0.001368508591662631\n",
      "rhp4 0.0011273060963973467\n",
      "hupa1 0.0026096437860597516\n",
      "hupa2 0.0019871704329129255\n",
      "hupa3 0.002740980089389815\n",
      "hupa4 0.0031185049604504924\n",
      "hupa5 0.0025678192500477024\n",
      "hupa6 0.0020957463115741253\n",
      "hupa7 0.0021779585889327\n",
      "rp1 0.0027774264007574215\n",
      "rp2 0.003051485977458843\n",
      "rp3 0.003318205094011169\n",
      "rp4 0.0030488982851571093\n",
      "msa 0.003388527134586921\n",
      "adi 0.0037522440853740443\n",
      "dma 0.003809175134644102\n",
      "ic1 0.00341555329442842\n",
      "ic2 0.003279785251579867\n",
      "ic3 0.003348039414633014\n",
      "ic4 0.003408440825779558\n",
      "ic5 0.0036417258412816795\n",
      "ic6 0.0029548374316099597\n",
      "ic7 0.0032327431729323747\n",
      "ic8 0.003648939632135833\n",
      "ic9 0.0037683548897282466\n",
      "ic10 0.0030345265756362965\n",
      "ic11 0.002462542952355885\n",
      "ic12 0.0018937166505402882\n",
      "ic13 0.0015880418120120911\n",
      "ic14 0.0018959830905880362\n",
      "ic15 0.0027565066387438704\n",
      "ic16 0.002949066701872027\n",
      "ic17 0.0032466107812858403\n",
      "ic18 0.0037272030676645303\n",
      "ic19 0.003285493812998463\n",
      "ic20 0.0024702600789458366\n",
      "ic21 0.0020408639375932743\n",
      "ic22 0.0016745515778290598\n",
      "ic23 0.0018604510839424525\n",
      "hhas1 0.0029333379786925257\n",
      "hhas2 0.002658779032868813\n",
      "hhas3 0.00306857624170551\n",
      "hhas4 0.002538390983204518\n",
      "mc1 0.00318250966153963\n",
      "mc2 0.0034566083542867244\n",
      "mc3 0.0030499012743973822\n",
      "tpe1 0.003321750531636058\n",
      "tpe2 0.0031418864942321283\n",
      "tpe3 0.0014097615223841492\n",
      "tpe4 0.0013159761772186904\n",
      "tpe5 0.0008084723333894031\n",
      "tpe6 0.000632207245665014\n",
      "tpe7 0.0011419735504751092\n",
      "tpe8 0.0021912719934068085\n",
      "tpe9 0.0024428982235195768\n",
      "pec1 0.002762433024260699\n",
      "pec2 0.0041131778411643135\n",
      "tpe10 0.0032624618137253227\n",
      "tpe11 0.0037404961104455844\n",
      "tpe12 0.0029225341166224934\n",
      "tpe13 0.004050091079762442\n",
      "lfc1 0.0028158476654357727\n",
      "lfc2 0.0027101301076159824\n",
      "lfc3 0.003156166081783873\n",
      "lfc4 0.003206816847300888\n",
      "lfc5 0.0030331351111138076\n",
      "lfc6 0.003260060773449381\n",
      "lfc7 0.0035140108839798677\n",
      "lfc8 0.0019761949660772517\n",
      "lfc9 0.0009829183401370155\n",
      "lfc10 0.0023155734650413813\n",
      "occ1 0.0033012305279714062\n",
      "occ2 0.003163036566875887\n",
      "occ3 0.0024008548358334264\n",
      "occ4 0.0030639180244366637\n",
      "occ5 0.0031576743781831966\n",
      "occ6 0.001400695484229446\n",
      "occ7 0.00218132683793434\n",
      "occ8 0.0033107818800191344\n",
      "occ9 0.0024960681457141948\n",
      "occ10 0.0033005075031558844\n",
      "occ11 0.0030676747400960815\n",
      "occ12 0.0025725549886517407\n",
      "occ13 0.00228028099150466\n",
      "eic1 0.002519920334651679\n",
      "eic2 0.0017681552850038764\n",
      "eic3 0.0033954088061023146\n",
      "eic4 0.004292980288112876\n",
      "eic5 0.0030719167161994774\n",
      "eic6 0.002336563136118312\n",
      "eic7 0.002638480149026564\n",
      "eic8 0.003178493472975663\n",
      "eic9 0.002655498524168168\n",
      "eic10 0.0026070905323299664\n",
      "eic11 0.0021973231740029645\n",
      "eic12 0.002042516285676636\n",
      "eic13 0.003304170665872177\n",
      "eic14 0.0032177585592301824\n",
      "eic15 0.0028291217715744367\n",
      "eic16 0.0026747497723227237\n",
      "oedc1 0.0030346521034609647\n",
      "oedc2 0.002891800077113531\n",
      "oedc3 0.0023679226231117095\n",
      "oedc4 0.003253097946586777\n",
      "oedc5 0.004050609780996379\n",
      "oedc6 0.002741492379194253\n",
      "oedc7 0.0016640071213135368\n",
      "ec1 0.001633523887704618\n",
      "ec2 0.0028565988279430003\n",
      "ec3 0.0031282386117076635\n",
      "ec4 0.003734486320457282\n",
      "ec5 0.003326425681686657\n",
      "ec6 0.0032303996603951506\n",
      "ec7 0.002968072773542409\n",
      "ec8 0.0026612615594352727\n",
      "sec1 0.0024631448684575142\n",
      "sec2 0.002946872791469709\n",
      "sec3 0.0018295020686208338\n",
      "sec4 0.0026148777030116947\n",
      "sec5 0.002725814676039505\n",
      "afc1 0.001193143466989052\n",
      "afc2 0.0015542382322932889\n",
      "afc3 0.0009418486336310103\n",
      "afc4 0.0026389530465423154\n"
     ]
    },
    {
     "name": "stdout",
     "output_type": "stream",
     "text": [
      "afc5 0.003138568375967395\n",
      "afc6 0.001844482638207551\n",
      "vc1 0.0034296981681554823\n",
      "vc2 0.0032970600231433216\n",
      "vc3 0.0033540104158033203\n",
      "vc4 0.002587680299819259\n",
      "anc1 0.0021525819528379884\n",
      "anc2 0.003296167191535383\n",
      "anc3 0.0019160494296887843\n",
      "anc4 0.0036542698841762573\n",
      "anc5 0.0014181716888459425\n",
      "anc6 0.0008321848412141151\n",
      "anc7 0.003030182925708413\n",
      "anc8 0.002222480069204915\n",
      "anc9 0.002087058535430424\n",
      "anc10 0.0018925900505753015\n",
      "anc11 0.001094158445103525\n",
      "anc12 0.0009796291173876542\n",
      "anc13 0.001561471690424722\n",
      "anc14 0.0016754699655632053\n",
      "anc15 0.0009535739199060547\n",
      "pobc1 0.002374579641670438\n",
      "pobc2 0.004080918837795774\n",
      "lsc1 0.002854973550452347\n",
      "lsc2 0.002608643095146478\n",
      "lsc3 0.001718727066522179\n",
      "lsc4 0.002511469902466919\n",
      "voc1 0.0020227490006322324\n",
      "voc2 0.003097476454180523\n",
      "voc3 0.0033786938631967726\n",
      "hc1 0.00282394772927667\n",
      "hc2 0.0031759532929935253\n",
      "hc3 0.002218099653307637\n",
      "hc4 0.002562280419065111\n",
      "hc5 0.002795724623147135\n",
      "hc6 0.002657693453371509\n",
      "hc7 0.0026608883306419267\n",
      "hc8 0.0028223988499416373\n",
      "hc9 0.0017212002922715993\n",
      "hc10 0.0018229763838350254\n",
      "hc11 0.0029296836779453992\n",
      "hc12 0.0027967380837116695\n",
      "hc13 0.0034916670298735606\n",
      "hc14 0.0026895126349675462\n",
      "hc15 0.0008337468342246757\n",
      "hc16 0.002892683128023311\n",
      "hc17 0.0022461402463485524\n",
      "hc18 0.0025673350004432943\n",
      "hc19 0.002346820598423433\n",
      "hc20 0.0011789548752674875\n",
      "hc21 0.001953900694593393\n",
      "mhuc1 0.002199860630752083\n",
      "mhuc2 0.0010621536159627922\n",
      "ac1 0.002712579387491905\n",
      "ac2 0.002376631032768689\n",
      "rfa_2 0.002870332815560631\n",
      "rfa_3 0.003312528923225557\n",
      "rfa_4 0.0033072250643562673\n",
      "rfa_5 0.0027807783961587207\n",
      "rfa_6 0.003974987273624373\n",
      "rfa_7 0.003469251993800609\n",
      "rfa_8 0.003688060156318554\n",
      "rfa_9 0.003747549190613365\n",
      "rfa_10 0.0027369324886736116\n",
      "rfa_11 0.0035118922790946462\n",
      "rfa_12 0.004027733115443218\n",
      "rfa_13 0.0025835822674676384\n",
      "rfa_14 0.003566698412356488\n",
      "rfa_15 0.0018248401785848692\n",
      "rfa_16 0.0037721268257402355\n",
      "rfa_17 0.0032433709231420543\n",
      "rfa_18 0.003515094464632859\n",
      "rfa_19 0.003743980675897378\n",
      "rfa_20 0.0027332635694213236\n",
      "rfa_21 0.0030552479157315987\n",
      "rfa_22 0.003644213672387875\n",
      "rfa_23 0.002475079716144186\n",
      "rfa_24 0.0031217591346949258\n",
      "cardprom 0.005259379530656725\n",
      "numprom 0.00595047556218339\n",
      "cardpm12 0.0037881749911286744\n",
      "numprm12 0.005084892637917132\n",
      "ramnt_3 0.001014688317693689\n",
      "ramnt_4 0.0006237293855590589\n",
      "ramnt_5 0.00014028941865161136\n",
      "ramnt_6 0.0008854305115371857\n",
      "ramnt_7 0.0013115105074263207\n",
      "ramnt_8 0.0023551260346072913\n",
      "ramnt_9 0.002255533761740816\n",
      "ramnt_10 0.0013208637394184833\n",
      "ramnt_11 0.001672173742281631\n",
      "ramnt_12 0.002196553063568318\n",
      "ramnt_13 0.0018476115190721475\n",
      "ramnt_14 0.002596665880287471\n",
      "ramnt_15 0.0015334652331649176\n",
      "ramnt_16 0.0019765768701632707\n",
      "ramnt_17 0.001417046771277572\n",
      "ramnt_18 0.0019756700142193225\n",
      "ramnt_19 0.0019591052335883523\n",
      "ramnt_20 0.0012538292525267475\n",
      "ramnt_21 0.0012130773312390073\n",
      "ramnt_22 0.0025130157376648077\n",
      "ramnt_23 0.0015271849023335672\n",
      "ramnt_24 0.001971482639457195\n",
      "ramntall 0.005431230019712484\n",
      "ngiftall 0.004843562051807195\n",
      "cardgift 0.004108574476592582\n",
      "minramnt 0.002810614305956011\n",
      "maxramnt 0.004045592224765756\n",
      "lastgift 0.004103928871063744\n",
      "timelag 0.005121565135313\n",
      "avggift 0.00666650475639684\n",
      "id 0.004493454884450849\n",
      "hphone_d 0.00074306816802665\n",
      "rfa_2r 0.0\n",
      "rfa_2f 0.0017608796147033261\n",
      "rfa_2a 0.0018813922841348105\n",
      "mdmaud_r 5.2955814359008406e-05\n",
      "mdmaud_f 4.666349587740766e-05\n",
      "mdmaud_a 5.237091304559601e-05\n",
      "cluster2 0.0027156365443430945\n",
      "geocode2 0.00096619262646568\n"
     ]
    }
   ],
   "source": [
    "for i in range(len(X.columns)):\n",
    "    print(X.columns[i],rf.feature_importances_[i])"
   ]
  },
  {
   "cell_type": "markdown",
   "metadata": {},
   "source": [
    "# prediction and Confusion Metrics"
   ]
  },
  {
   "cell_type": "code",
   "execution_count": 30,
   "metadata": {},
   "outputs": [],
   "source": [
    "pred1=rf.predict(X_test)"
   ]
  },
  {
   "cell_type": "code",
   "execution_count": 31,
   "metadata": {},
   "outputs": [
    {
     "data": {
      "text/plain": [
       "0.9840451644575355"
      ]
     },
     "execution_count": 31,
     "metadata": {},
     "output_type": "execute_result"
    }
   ],
   "source": [
    "metrics.accuracy_score(pred1,y_test)"
   ]
  },
  {
   "cell_type": "code",
   "execution_count": 204,
   "metadata": {},
   "outputs": [
    {
     "name": "stdout",
     "output_type": "stream",
     "text": [
      "                  precision    recall  f1-score   support\n",
      "\n",
      "     No Response       0.98      1.00      0.99     38596\n",
      "Positve Response       1.00      0.70      0.82      2144\n",
      "\n",
      "     avg / total       0.98      0.98      0.98     40740\n",
      "\n"
     ]
    }
   ],
   "source": [
    "target_names=['No Response','Positve Response']\n",
    "print(metrics.classification_report(y_test,pred1,target_names=target_names))\n"
   ]
  },
  {
   "cell_type": "markdown",
   "metadata": {},
   "source": [
    "# Recall\n",
    "is the ratio tp / (tp + fn) where tp is the number of true positives and fn the number of false negatives. The recall is intuitively the ability of the classifier recall  the  positive  in the sample.\n",
    "\n",
    "The best value is 1 and the worst value is 0."
   ]
  },
  {
   "cell_type": "markdown",
   "metadata": {},
   "source": [
    "# precision \n",
    "is the ratio tp / (tp + fp) where tp is the number of true positives and fp the number of false positives. The precision is intuitively the ability of the classifier not to label as positive a sample that is negative.\n",
    "\n",
    "The best value is 1 and the worst value is 0."
   ]
  },
  {
   "cell_type": "code",
   "execution_count": 199,
   "metadata": {},
   "outputs": [
    {
     "data": {
      "text/plain": [
       "0.9960079840319361"
      ]
     },
     "execution_count": 199,
     "metadata": {},
     "output_type": "execute_result"
    }
   ],
   "source": [
    "metrics.precision_score(y_test,pred1)"
   ]
  },
  {
   "cell_type": "markdown",
   "metadata": {},
   "source": [
    "# Recall"
   ]
  },
  {
   "cell_type": "code",
   "execution_count": 203,
   "metadata": {},
   "outputs": [
    {
     "data": {
      "text/plain": [
       "0.7010261194029851"
      ]
     },
     "execution_count": 203,
     "metadata": {},
     "output_type": "execute_result"
    }
   ],
   "source": [
    "sum(pred1)/sum(y_test)"
   ]
  },
  {
   "cell_type": "markdown",
   "metadata": {},
   "source": [
    "# Prediction After Principal Components Analysis\n"
   ]
  },
  {
   "cell_type": "code",
   "execution_count": null,
   "metadata": {},
   "outputs": [],
   "source": [
    "columns=[]"
   ]
  },
  {
   "cell_type": "code",
   "execution_count": null,
   "metadata": {},
   "outputs": [],
   "source": [
    "from sklearn.decomposition import PCA\n",
    "pca = PCA(n_components=20)\n",
    "principalComponents = pca.fit_transform(X)\n",
    "principalDf = pd.DataFrame(data = principalComponents, columns = ['principal component 1', 'principal component 2'])"
   ]
  },
  {
   "cell_type": "markdown",
   "metadata": {},
   "source": [
    "# Prediction on the unlabelled test data"
   ]
  },
  {
   "cell_type": "code",
   "execution_count": 73,
   "metadata": {},
   "outputs": [
    {
     "name": "stderr",
     "output_type": "stream",
     "text": [
      "C:\\Users\\maz\\Anaconda3\\lib\\site-packages\\IPython\\core\\interactiveshell.py:2785: DtypeWarning: Columns (8) have mixed types. Specify dtype option on import or set low_memory=False.\n",
      "  interactivity=interactivity, compiler=compiler, result=result)\n"
     ]
    }
   ],
   "source": [
    "test=pd.read_csv(r'C:\\Users\\maz\\Desktop\\uptake_data\\test.csv')\n",
    "test1=test"
   ]
  },
  {
   "cell_type": "code",
   "execution_count": 59,
   "metadata": {},
   "outputs": [
    {
     "data": {
      "text/plain": [
       "(162958, 427)"
      ]
     },
     "execution_count": 59,
     "metadata": {},
     "output_type": "execute_result"
    }
   ],
   "source": [
    "X.shape"
   ]
  },
  {
   "cell_type": "markdown",
   "metadata": {},
   "source": [
    "# Missing Values and Preprocessing unlabelled test data for prediction"
   ]
  },
  {
   "cell_type": "code",
   "execution_count": 60,
   "metadata": {},
   "outputs": [
    {
     "name": "stdout",
     "output_type": "stream",
     "text": [
      " Missing Data Percentage in Variable age 25.737824590676816\n",
      " Missing Data Percentage in Variable numchld 86.88080091771822\n",
      " Missing Data Percentage in Variable income_range 22.557096673271456\n",
      " Missing Data Percentage in Variable wealth1 47.17905933882574\n",
      " Missing Data Percentage in Variable mbcraft 55.678381478777766\n",
      " Missing Data Percentage in Variable mbgarden 55.678381478777766\n",
      " Missing Data Percentage in Variable mbbooks 55.678381478777766\n",
      " Missing Data Percentage in Variable mbcolect 55.78266764000417\n",
      " Missing Data Percentage in Variable magfaml 55.678381478777766\n",
      " Missing Data Percentage in Variable magfem 55.678381478777766\n",
      " Missing Data Percentage in Variable magmale 55.678381478777766\n",
      " Missing Data Percentage in Variable pubgardn 55.678381478777766\n",
      " Missing Data Percentage in Variable pubculin 55.678381478777766\n",
      " Missing Data Percentage in Variable pubhlth 55.678381478777766\n",
      " Missing Data Percentage in Variable pubdoity 55.678381478777766\n",
      " Missing Data Percentage in Variable pubnewfn 55.678381478777766\n",
      " Missing Data Percentage in Variable pubphoto 55.678381478777766\n",
      " Missing Data Percentage in Variable pubopp 55.678381478777766\n",
      " Missing Data Percentage in Variable wealth2 46.000625716967356\n",
      " Missing Data Percentage in Variable msa 0.16685785796224842\n",
      " Missing Data Percentage in Variable adi 0.16685785796224842\n",
      " Missing Data Percentage in Variable dma 0.16685785796224842\n",
      " Missing Data Percentage in Variable adate_3 2.3151527792261968\n",
      " Missing Data Percentage in Variable adate_4 2.659297111273334\n",
      " Missing Data Percentage in Variable adate_5 35.18615079778913\n",
      " Missing Data Percentage in Variable adate_6 3.4831577849619357\n",
      " Missing Data Percentage in Variable adate_7 9.636041297319846\n",
      " Missing Data Percentage in Variable adate_8 3.8794451976222755\n",
      " Missing Data Percentage in Variable adate_9 12.086766086140369\n",
      " Missing Data Percentage in Variable adate_10 34.29971842736469\n",
      " Missing Data Percentage in Variable adate_11 10.981332777140473\n",
      " Missing Data Percentage in Variable adate_12 9.437897590989676\n",
      " Missing Data Percentage in Variable adate_13 42.559182396495984\n",
      " Missing Data Percentage in Variable adate_14 20.2002294295547\n",
      " Missing Data Percentage in Variable adate_15 68.38043591615393\n",
      " Missing Data Percentage in Variable adate_16 21.503806444884763\n",
      " Missing Data Percentage in Variable adate_17 29.53384085931797\n",
      " Missing Data Percentage in Variable adate_18 22.47366774429033\n",
      " Missing Data Percentage in Variable adate_19 25.643967045573053\n",
      " Missing Data Percentage in Variable adate_20 52.445510480759204\n",
      " Missing Data Percentage in Variable adate_21 37.6994472833455\n",
      " Missing Data Percentage in Variable adate_22 27.072687454374805\n",
      " Missing Data Percentage in Variable adate_23 59.18239649598498\n",
      " Missing Data Percentage in Variable adate_24 39.2428824694963\n",
      " Missing Data Percentage in Variable rdate_3 99.81228490979247\n",
      " Missing Data Percentage in Variable rdate_4 99.72885598081135\n",
      " Missing Data Percentage in Variable rdate_5 99.98957138387736\n",
      " Missing Data Percentage in Variable rdate_6 99.0197100844718\n",
      " Missing Data Percentage in Variable rdate_7 90.64553133799144\n",
      " Missing Data Percentage in Variable rdate_8 77.44290332672854\n",
      " Missing Data Percentage in Variable rdate_9 82.49035353008655\n",
      " Missing Data Percentage in Variable rdate_10 88.47637918448221\n",
      " Missing Data Percentage in Variable rdate_11 84.51350505787882\n",
      " Missing Data Percentage in Variable rdate_12 73.30274272604025\n",
      " Missing Data Percentage in Variable rdate_13 87.92366252998227\n",
      " Missing Data Percentage in Variable rdate_14 75.26332255709667\n",
      " Missing Data Percentage in Variable rdate_15 92.38711023047242\n",
      " Missing Data Percentage in Variable rdate_16 72.15559495254979\n",
      " Missing Data Percentage in Variable rdate_17 90.40567316717072\n",
      " Missing Data Percentage in Variable rdate_18 78.99676712900198\n",
      " Missing Data Percentage in Variable rdate_19 83.07435603295443\n",
      " Missing Data Percentage in Variable rdate_20 91.59453540515173\n",
      " Missing Data Percentage in Variable rdate_21 90.426530399416\n",
      " Missing Data Percentage in Variable rdate_22 78.79862342267181\n",
      " Missing Data Percentage in Variable rdate_23 91.55282094066118\n",
      " Missing Data Percentage in Variable rdate_24 81.54134946292626\n",
      " Missing Data Percentage in Variable ramnt_3 99.81228490979247\n",
      " Missing Data Percentage in Variable ramnt_4 99.72885598081135\n",
      " Missing Data Percentage in Variable ramnt_5 99.98957138387736\n",
      " Missing Data Percentage in Variable ramnt_6 99.0197100844718\n",
      " Missing Data Percentage in Variable ramnt_7 90.64553133799144\n",
      " Missing Data Percentage in Variable ramnt_8 77.44290332672854\n",
      " Missing Data Percentage in Variable ramnt_9 82.49035353008655\n",
      " Missing Data Percentage in Variable ramnt_10 88.47637918448221\n",
      " Missing Data Percentage in Variable ramnt_11 84.51350505787882\n",
      " Missing Data Percentage in Variable ramnt_12 73.30274272604025\n",
      " Missing Data Percentage in Variable ramnt_13 87.92366252998227\n",
      " Missing Data Percentage in Variable ramnt_14 75.26332255709667\n",
      " Missing Data Percentage in Variable ramnt_15 92.38711023047242\n",
      " Missing Data Percentage in Variable ramnt_16 72.15559495254979\n",
      " Missing Data Percentage in Variable ramnt_17 90.40567316717072\n",
      " Missing Data Percentage in Variable ramnt_18 78.99676712900198\n",
      " Missing Data Percentage in Variable ramnt_19 83.07435603295443\n",
      " Missing Data Percentage in Variable ramnt_20 91.59453540515173\n",
      " Missing Data Percentage in Variable ramnt_21 90.426530399416\n",
      " Missing Data Percentage in Variable ramnt_22 78.79862342267181\n",
      " Missing Data Percentage in Variable ramnt_23 91.55282094066118\n",
      " Missing Data Percentage in Variable ramnt_24 81.54134946292626\n",
      " Missing Data Percentage in Variable nextdate 10.804046303055584\n",
      " Missing Data Percentage in Variable timelag 10.804046303055584\n",
      " Missing Data Percentage in Variable cluster2 0.16685785796224842\n",
      " Missing Data Percentage in Variable geocode2 0.16685785796224842\n",
      " Missing Data Percentage in Variable market 100.0\n",
      "Total Number of Columns with missing data is  93\n"
     ]
    }
   ],
   "source": [
    "c=0\n",
    "for i in test.columns:\n",
    "    if test[i].isnull().sum()>0:\n",
    "        c+=1\n",
    "        print(' Missing Data Percentage in Variable %s'%i,test[i].isnull().sum()*100/test.shape[0])\n",
    "print('Total Number of Columns with missing data is ', c)"
   ]
  },
  {
   "cell_type": "markdown",
   "metadata": {},
   "source": [
    "# preprocessing Unlabelled data\n",
    "\n",
    "1.removing date columns"
   ]
  },
  {
   "cell_type": "code",
   "execution_count": 61,
   "metadata": {},
   "outputs": [
    {
     "data": {
      "text/plain": [
       "(9589, 428)"
      ]
     },
     "execution_count": 61,
     "metadata": {},
     "output_type": "execute_result"
    }
   ],
   "source": [
    "date_columns=[]\n",
    "for i in test.columns:\n",
    "    if 'date' in i:\n",
    "        date_columns.append(i)\n",
    "test=test.drop(date_columns,axis=1)\n",
    "test.shape"
   ]
  },
  {
   "cell_type": "code",
   "execution_count": 62,
   "metadata": {},
   "outputs": [],
   "source": [
    "test['age']=test.age.fillna(np.nanmedian(test.age))"
   ]
  },
  {
   "cell_type": "code",
   "execution_count": 63,
   "metadata": {},
   "outputs": [],
   "source": [
    "test=test.drop(['market'],axis=1)\n",
    "test['numchld']=test.numchld.fillna(0)\n",
    "test.income_range=test.income_range.fillna(np.nanmedian(test.income_range))\n",
    "test.mbcraft=test.mbcraft.fillna(0)\n",
    "for i in ['mbgarden',  'mbbooks', 'mbcolect', 'magfaml', 'magfem', 'magmale', 'pubgardn',\n",
    "       'pubculin', 'pubhlth', 'pubdoity', 'pubnewfn', 'pubphoto', 'pubopp']:\n",
    "    test[i]=test[i].fillna(0)\n",
    "#test=test.drop(['amount'])\n",
    "test=test.query('timelag<100')\n",
    "test.timelag=test.timelag.fillna(np.mean(test.timelag))\n",
    "test=test[test.msa.notnull()]\n",
    "for i in test.columns:\n",
    "    if 'ramnt' in i:\n",
    "        test[i]=test[i].fillna(0)\n",
    "test.wealth1=test.wealth1.fillna(np.nanmean(test.wealth1))\n",
    "test.wealth2=test.wealth2.fillna(np.nanmean(test.wealth1))\n"
   ]
  },
  {
   "cell_type": "code",
   "execution_count": 64,
   "metadata": {},
   "outputs": [
    {
     "data": {
      "text/plain": [
       "Series([], dtype: int64)"
      ]
     },
     "execution_count": 64,
     "metadata": {},
     "output_type": "execute_result"
    }
   ],
   "source": [
    "test.isnull().sum()[test.isnull().sum()>0]"
   ]
  },
  {
   "cell_type": "markdown",
   "metadata": {},
   "source": [
    "# Label encoding the test data"
   ]
  },
  {
   "cell_type": "code",
   "execution_count": 65,
   "metadata": {},
   "outputs": [
    {
     "name": "stdout",
     "output_type": "stream",
     "text": [
      "variable  source is label encoded\n",
      "variable  state is label encoded\n",
      "variable  zip is label encoded\n",
      "variable  mailcode is label encoded\n",
      "variable  has_chapter is label encoded\n",
      "variable  recinhse is label encoded\n",
      "variable  recp3 is label encoded\n",
      "variable  recpgvg is label encoded\n",
      "variable  recsweep is label encoded\n",
      "variable  mdmaud is label encoded\n",
      "variable  domain is label encoded\n",
      "variable  cluster is label encoded\n",
      "variable  ageflag is label encoded\n",
      "variable  homeownr is label encoded\n",
      "variable  child03 is label encoded\n",
      "variable  child07 is label encoded\n",
      "variable  child12 is label encoded\n",
      "variable  child18 is label encoded\n",
      "variable  gender is label encoded\n",
      "variable  datasrce is label encoded\n",
      "variable  solp3 is label encoded\n",
      "variable  solih is label encoded\n",
      "variable  major is label encoded\n",
      "variable  geocode is label encoded\n",
      "variable  collect1 is label encoded\n",
      "variable  veterans is label encoded\n",
      "variable  bible is label encoded\n",
      "variable  catlg is label encoded\n",
      "variable  homee is label encoded\n",
      "variable  pets is label encoded\n",
      "variable  cdplay is label encoded\n",
      "variable  stereo is label encoded\n",
      "variable  pcowners is label encoded\n",
      "variable  photo is label encoded\n",
      "variable  crafts is label encoded\n",
      "variable  fisher is label encoded\n",
      "variable  gardenin is label encoded\n",
      "variable  boats is label encoded\n",
      "variable  walker is label encoded\n",
      "variable  kidstuff is label encoded\n",
      "variable  cards is label encoded\n",
      "variable  plates is label encoded\n",
      "variable  lifesrc is label encoded\n",
      "variable  pepstrfl is label encoded\n",
      "variable  rfa_2 is label encoded\n",
      "variable  rfa_3 is label encoded\n",
      "variable  rfa_4 is label encoded\n",
      "variable  rfa_5 is label encoded\n",
      "variable  rfa_6 is label encoded\n",
      "variable  rfa_7 is label encoded\n",
      "variable  rfa_8 is label encoded\n",
      "variable  rfa_9 is label encoded\n",
      "variable  rfa_10 is label encoded\n",
      "variable  rfa_11 is label encoded\n",
      "variable  rfa_12 is label encoded\n",
      "variable  rfa_13 is label encoded\n",
      "variable  rfa_14 is label encoded\n",
      "variable  rfa_15 is label encoded\n",
      "variable  rfa_16 is label encoded\n",
      "variable  rfa_17 is label encoded\n",
      "variable  rfa_18 is label encoded\n",
      "variable  rfa_19 is label encoded\n",
      "variable  rfa_20 is label encoded\n",
      "variable  rfa_21 is label encoded\n",
      "variable  rfa_22 is label encoded\n",
      "variable  rfa_23 is label encoded\n",
      "variable  rfa_24 is label encoded\n",
      "variable  rfa_2r is label encoded\n",
      "variable  rfa_2a is label encoded\n",
      "variable  mdmaud_r is label encoded\n",
      "variable  mdmaud_f is label encoded\n",
      "variable  mdmaud_a is label encoded\n",
      "variable  geocode2 is label encoded\n"
     ]
    }
   ],
   "source": [
    "test.noexch=test.noexch.replace('X',0)\n",
    "test.noexch=test.noexch.replace(' ',0)\n",
    "test.noexch=test.noexch.astype('int')\n",
    "for i in test.columns:\n",
    "    if test[i].dtypes== 'O':\n",
    "        print('variable ',i,'is label encoded')\n",
    "        test[i]=enc.fit_transform(test[i])"
   ]
  },
  {
   "cell_type": "code",
   "execution_count": 66,
   "metadata": {},
   "outputs": [],
   "source": [
    "test['predictions']=rf.predict(test)\n"
   ]
  },
  {
   "cell_type": "code",
   "execution_count": 72,
   "metadata": {},
   "outputs": [
    {
     "name": "stderr",
     "output_type": "stream",
     "text": [
      "C:\\Users\\maz\\Anaconda3\\lib\\site-packages\\ipykernel_launcher.py:2: FutureWarning: Sorting because non-concatenation axis is not aligned. A future version\n",
      "of pandas will change to not sort by default.\n",
      "\n",
      "To accept the future behavior, pass 'sort=True'.\n",
      "\n",
      "To retain the current behavior and silence the warning, pass sort=False\n",
      "\n",
      "  \n"
     ]
    },
    {
     "data": {
      "text/plain": [
       "0       NaN\n",
       "1       NaN\n",
       "2       NaN\n",
       "3       NaN\n",
       "4       NaN\n",
       "5       NaN\n",
       "6       NaN\n",
       "7       NaN\n",
       "8       NaN\n",
       "9       NaN\n",
       "10      NaN\n",
       "11      NaN\n",
       "12      NaN\n",
       "13      NaN\n",
       "14      NaN\n",
       "15      NaN\n",
       "16      NaN\n",
       "17      NaN\n",
       "18      NaN\n",
       "19      NaN\n",
       "20      NaN\n",
       "21      NaN\n",
       "22      NaN\n",
       "23      NaN\n",
       "24      NaN\n",
       "25      NaN\n",
       "26      NaN\n",
       "27      NaN\n",
       "28      NaN\n",
       "29      NaN\n",
       "       ... \n",
       "9557    0.0\n",
       "9558    1.0\n",
       "9559    0.0\n",
       "9560    0.0\n",
       "9561    0.0\n",
       "9562    0.0\n",
       "9563    0.0\n",
       "9564    0.0\n",
       "9565    0.0\n",
       "9566    0.0\n",
       "9567    0.0\n",
       "9568    0.0\n",
       "9569    0.0\n",
       "9570    0.0\n",
       "9571    0.0\n",
       "9572    0.0\n",
       "9573    0.0\n",
       "9574    0.0\n",
       "9575    0.0\n",
       "9576    1.0\n",
       "9577    0.0\n",
       "9578    0.0\n",
       "9579    0.0\n",
       "9580    0.0\n",
       "9581    0.0\n",
       "9582    0.0\n",
       "9583    0.0\n",
       "9584    0.0\n",
       "9585    0.0\n",
       "9587    1.0\n",
       "Name: predictions, Length: 26667, dtype: float64"
      ]
     },
     "execution_count": 72,
     "metadata": {},
     "output_type": "execute_result"
    }
   ],
   "source": [
    "test_results=test[['predictions']]\n"
   ]
  },
  {
   "cell_type": "code",
   "execution_count": 85,
   "metadata": {},
   "outputs": [],
   "source": [
    "test2=pd.concat([test1,test_results],axis=1)\n",
    "test2.predictions=test2.predictions.fillna(0)\n",
    "test2.market=test2.predictions\n",
    "test2=test2.drop(['predictions'],axis=1)"
   ]
  },
  {
   "cell_type": "code",
   "execution_count": 88,
   "metadata": {},
   "outputs": [
    {
     "data": {
      "text/plain": [
       "'C:\\\\Users\\\\maz'"
      ]
     },
     "execution_count": 88,
     "metadata": {},
     "output_type": "execute_result"
    }
   ],
   "source": [
    "import os\n",
    "os.getcwd()"
   ]
  },
  {
   "cell_type": "code",
   "execution_count": 86,
   "metadata": {},
   "outputs": [],
   "source": [
    "test2.to_csv('test.csv')"
   ]
  },
  {
   "cell_type": "markdown",
   "metadata": {},
   "source": [
    "# profitability \n",
    "profitability in  test data predictions = total amount of donations received in test data -total amount of expenditure "
   ]
  },
  {
   "cell_type": "markdown",
   "metadata": {},
   "source": [
    "# Actual Donations Received in Test Set"
   ]
  },
  {
   "cell_type": "code",
   "execution_count": 310,
   "metadata": {},
   "outputs": [
    {
     "data": {
      "text/plain": [
       "38661.689"
      ]
     },
     "execution_count": 310,
     "metadata": {},
     "output_type": "execute_result"
    }
   ],
   "source": [
    "#true positives\n",
    "tp=(y_test+pred1)==2\n",
    "donation_receieved=df.iloc[y_test[tp].index].amount.sum()\n",
    "print('donation_receieved',donation_receieved)"
   ]
  },
  {
   "cell_type": "markdown",
   "metadata": {},
   "source": [
    "# Expense Incurred \n",
    "If we would have marketed as per the predictions of random forest model the Expense incurred would be"
   ]
  },
  {
   "cell_type": "code",
   "execution_count": 414,
   "metadata": {},
   "outputs": [
    {
     "name": "stdout",
     "output_type": "stream",
     "text": [
      "expense= 10767.2\n"
     ]
    }
   ],
   "source": [
    "a=df.iloc[y_test[pred1==1].index]\n",
    "expense=a.merge(zipcost).marketingCost.sum()\n",
    "print('expense=',expense)"
   ]
  },
  {
   "cell_type": "markdown",
   "metadata": {},
   "source": [
    "# profitability is 259% percnetage based on random forest"
   ]
  },
  {
   "cell_type": "code",
   "execution_count": 415,
   "metadata": {},
   "outputs": [
    {
     "name": "stdout",
     "output_type": "stream",
     "text": [
      "profitability 259.0691080318003 percentage\n"
     ]
    }
   ],
   "source": [
    "profitability=(donation_receieved-expense)*100/expense\n",
    "print('profitability',profitability,'percentage')"
   ]
  },
  {
   "cell_type": "markdown",
   "metadata": {},
   "source": [
    "# Classifiaction using  SVM"
   ]
  },
  {
   "cell_type": "code",
   "execution_count": 89,
   "metadata": {},
   "outputs": [],
   "source": [
    "# Create a simple classifier\n",
    "from sklearn import svm\n",
    "classifier = svm.LinearSVC(random_state=42)\n",
    "classifier.fit(X_train, y_train)\n",
    "y_score = classifier.decision_function(X_test)"
   ]
  },
  {
   "cell_type": "code",
   "execution_count": 94,
   "metadata": {},
   "outputs": [
    {
     "data": {
      "text/plain": [
       "0"
      ]
     },
     "execution_count": 94,
     "metadata": {},
     "output_type": "execute_result"
    }
   ],
   "source": [
    "pred1=classifier.predict(X_test)\n",
    "sum(pred1)"
   ]
  },
  {
   "cell_type": "code",
   "execution_count": 95,
   "metadata": {},
   "outputs": [
    {
     "name": "stdout",
     "output_type": "stream",
     "text": [
      "donation_receieved 0.0\n",
      "expense= 0.0\n",
      "profitability nan percentage\n"
     ]
    },
    {
     "name": "stderr",
     "output_type": "stream",
     "text": [
      "C:\\Users\\maz\\Anaconda3\\lib\\site-packages\\ipykernel_launcher.py:8: RuntimeWarning: invalid value encountered in double_scalars\n",
      "  \n"
     ]
    }
   ],
   "source": [
    "#true positives\n",
    "tp=(y_test+pred1)==2\n",
    "donation_receieved=df.iloc[y_test[tp].index].amount.sum()\n",
    "print('donation_receieved',donation_receieved)\n",
    "a=df.iloc[y_test[pred1==1].index]\n",
    "expense=a.merge(zipcost).marketingCost.sum()\n",
    "print('expense=',expense)\n",
    "profitability=(donation_receieved-expense)*100/expense\n",
    "print('profitability',profitability,'percentage')"
   ]
  },
  {
   "cell_type": "markdown",
   "metadata": {},
   "source": [
    "# Profitability\n",
    "Profitability of campaign = sum of all amounts received – sum of all marketing costs for customers to whom you marketed. \n"
   ]
  },
  {
   "cell_type": "code",
   "execution_count": null,
   "metadata": {},
   "outputs": [],
   "source": [
    "from sklearn import svm\n",
    "\n",
    "#Create a svm Classifier\n",
    "clf = svm.SVC(kernel='poly') # Linear Kernel\n",
    "\n",
    "#Train the model using the training sets\n",
    "clf.fit(X_train, y_train)\n",
    "\n",
    "#Predict the response for test dataset\n",
    "y_pred = clf.predict(X_test)"
   ]
  },
  {
   "cell_type": "markdown",
   "metadata": {},
   "source": [
    "# 3.Random Forest Hyperparametes tuning using Randomized search"
   ]
  },
  {
   "cell_type": "code",
   "execution_count": null,
   "metadata": {},
   "outputs": [],
   "source": [
    "from time import time\n",
    "from scipy.stats import randint as sp_randint\n",
    "\n",
    "from sklearn.model_selection import GridSearchCV\n",
    "from sklearn.model_selection import RandomizedSearchCV\n",
    "from sklearn.ensemble import RandomForestClassifier\n",
    "\n",
    "# build a classifier\n",
    "clf = RandomForestClassifier(X_train,y_train,n_estimators=20)\n",
    "\n",
    "\n",
    "# Utility function to report best scores\n",
    "def report(results, n_top=3):\n",
    "    for i in range(1, n_top + 1):\n",
    "        candidates = np.flatnonzero(results['rank_test_score'] == i)\n",
    "        for candidate in candidates:\n",
    "            print(\"Model with rank: {0}\".format(i))\n",
    "            print(\"Mean validation score: {0:.3f} (std: {1:.3f})\".format(\n",
    "                  results['mean_test_score'][candidate],\n",
    "                  results['std_test_score'][candidate]))\n",
    "            print(\"Parameters: {0}\".format(results['params'][candidate]))\n",
    "            print(\"\")\n",
    "\n",
    "\n",
    "# specify parameters and distributions to sample from\n",
    "param_dist = {\"max_depth\": [20, None],\n",
    "              \"max_features\": sp_randint(10, 21),\n",
    "              \"min_samples_split\": sp_randint(2, 11),\n",
    "              \"min_samples_leaf\": sp_randint(1, 11),\n",
    "              \"bootstrap\": [True, False],\n",
    "              \"criterion\": [\"gini\", \"entropy\"]}\n",
    "\n",
    "# run randomized search\n",
    "n_iter_search = 20\n",
    "random_search = RandomizedSearchCV(clf, param_distributions=param_dist,\n",
    "                                   n_iter=n_iter_search)\n",
    "start = time()\n",
    "random_search.fit(X, y)\n",
    "print(\"RandomizedSearchCV took %.2f seconds for %d candidates\"\n",
    "      \" parameter settings.\" % ((time() - start), n_iter_search))\n",
    "report(random_search.cv_results_)"
   ]
  },
  {
   "cell_type": "markdown",
   "metadata": {},
   "source": [
    "# 4.Using Naive Bayes Classifier"
   ]
  },
  {
   "cell_type": "code",
   "execution_count": 98,
   "metadata": {},
   "outputs": [],
   "source": [
    "from sklearn.naive_bayes import GaussianNB\n",
    "gnb = GaussianNB()\n",
    "y_pred = gnb.fit(X_train, y_train).predict(X_test)\n"
   ]
  },
  {
   "cell_type": "code",
   "execution_count": 101,
   "metadata": {},
   "outputs": [
    {
     "name": "stdout",
     "output_type": "stream",
     "text": [
      "donation_receieved 19777.8\n"
     ]
    }
   ],
   "source": [
    "pred1=y_pred\n",
    "tp=(y_test+pred1)==2\n",
    "donation_receieved=df.iloc[y_test[tp].index].amount.sum()\n",
    "print('donation_receieved',donation_receieved)\n",
    "a=df.iloc[y_test[pred1==1].index]\n"
   ]
  },
  {
   "cell_type": "code",
   "execution_count": null,
   "metadata": {},
   "outputs": [],
   "source": [
    "expense=a.merge(zipcost).marketingCost.sum()\n",
    "print('expense=',expense)\n",
    "profitability=(donation_receieved-expense)*100/expense\n",
    "print('profitability',profitability,'percentage')"
   ]
  }
 ],
 "metadata": {
  "kernelspec": {
   "display_name": "Python 3",
   "language": "python",
   "name": "python3"
  },
  "language_info": {
   "codemirror_mode": {
    "name": "ipython",
    "version": 3
   },
   "file_extension": ".py",
   "mimetype": "text/x-python",
   "name": "python",
   "nbconvert_exporter": "python",
   "pygments_lexer": "ipython3",
   "version": "3.6.5"
  }
 },
 "nbformat": 4,
 "nbformat_minor": 2
}
